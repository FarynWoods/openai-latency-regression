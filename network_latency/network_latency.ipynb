{
 "cells": [
  {
   "cell_type": "markdown",
   "metadata": {},
   "source": [
    "# Measure network latency for trivial request"
   ]
  },
  {
   "cell_type": "code",
   "execution_count": 1,
   "metadata": {},
   "outputs": [],
   "source": [
    "import os\n",
    "import time\n",
    "import json\n",
    "\n",
    "import numpy as np\n",
    "import matplotlib.pyplot as plt\n",
    "from openai import OpenAI"
   ]
  },
  {
   "cell_type": "code",
   "execution_count": 2,
   "metadata": {},
   "outputs": [],
   "source": [
    "client = OpenAI()"
   ]
  },
  {
   "cell_type": "markdown",
   "metadata": {},
   "source": [
    "## Data collection\n",
    "(skip - will overwrite existing data)"
   ]
  },
  {
   "cell_type": "code",
   "execution_count": null,
   "metadata": {},
   "outputs": [],
   "source": [
    "network_times = []\n",
    "n = 200\n",
    "\n",
    "for i in range(n):\n",
    "    if i % 10 == 0:\n",
    "        print(f\"\\tIteration: {i}/{n}\")\n",
    "\n",
    "    start = time.time()\n",
    "    client.models.list()\n",
    "    stop = time.time()\n",
    "\n",
    "    network_times.append(stop-start)\n",
    "\n",
    "file_name = \"network_times.json\"\n",
    "with open(file_name, \"w\") as jf:\n",
    "    json.dump(network_times, jf)"
   ]
  },
  {
   "cell_type": "markdown",
   "metadata": {},
   "source": [
    "### Analyze data"
   ]
  },
  {
   "cell_type": "code",
   "execution_count": 4,
   "metadata": {},
   "outputs": [
    {
     "name": "stdout",
     "output_type": "stream",
     "text": [
      "200 data points collected\n"
     ]
    }
   ],
   "source": [
    "file_name = \"network_times.json\"\n",
    "\n",
    "with open(file_name, \"r\") as jf:\n",
    "    network_times = json.load(jf)\n",
    "\n",
    "print(f\"{len(network_times)} data points collected\")"
   ]
  },
  {
   "cell_type": "code",
   "execution_count": 5,
   "metadata": {},
   "outputs": [],
   "source": [
    "# remove outliers\n",
    "data_array = np.array(network_times)\n",
    "upper_bound = np.quantile(data_array, 0.95)\n",
    "filtered_times = data_array[data_array <= upper_bound]"
   ]
  },
  {
   "cell_type": "code",
   "execution_count": 6,
   "metadata": {},
   "outputs": [
    {
     "data": {
      "image/png": "[encoded data removed]",
      "text/plain": [
       "<Figure size 1000x200 with 2 Axes>"
      ]
     },
     "metadata": {},
     "output_type": "display_data"
    }
   ],
   "source": [
    "fig, axes = plt.subplots(ncols=2, figsize=(10, 2), sharey=True)\n",
    "\n",
    "# Plot with outliers\n",
    "axes[0].plot(network_times, [1]*len(network_times), 'o', alpha=0.5)\n",
    "axes[0].set_title(\"With Outliers\")\n",
    "\n",
    "# Plot without outliers\n",
    "axes[1].plot(filtered_times, [1]*len(filtered_times), 'o', alpha=0.5)\n",
    "axes[1].set_title(\"Outliers Removed\")\n",
    "\n",
    "for ax in axes:\n",
    "    ax.set_yticks([])\n",
    "\n",
    "plt.tight_layout()"
   ]
  },
  {
   "cell_type": "code",
   "execution_count": 7,
   "metadata": {},
   "outputs": [
    {
     "name": "stdout",
     "output_type": "stream",
     "text": [
      "Network latency, 10% quantile: 0.1086\n"
     ]
    }
   ],
   "source": [
    "network_latency = np.quantile(network_times, 0.1)\n",
    "print(\"Network latency, 10% quantile:\", round(network_latency, 4))"
   ]
  }
 ],
 "metadata": {
  "kernelspec": {
   "display_name": "venv",
   "language": "python",
   "name": "python3"
  },
  "language_info": {
   "codemirror_mode": {
    "name": "ipython",
    "version": 3
   },
   "file_extension": ".py",
   "mimetype": "text/x-python",
   "name": "python",
   "nbconvert_exporter": "python",
   "pygments_lexer": "ipython3",
   "version": "3.11.9"
  }
 },
 "nbformat": 4,
 "nbformat_minor": 2
}
